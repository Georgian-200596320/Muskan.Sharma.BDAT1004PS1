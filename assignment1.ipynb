{
 "cells": [
  {
   "cell_type": "markdown",
   "id": "0b8810c0",
   "metadata": {},
   "source": [
    "# Question 1 "
   ]
  },
  {
   "cell_type": "code",
   "execution_count": 14,
   "id": "f453b638",
   "metadata": {},
   "outputs": [
    {
     "name": "stdout",
     "output_type": "stream",
     "text": [
      "<class 'int'>\n",
      "<class 'float'>\n",
      "<class 'bool'>\n",
      "<class 'str'>\n",
      "<class 'int'>\n",
      "<class 'str'>\n",
      "<class 'str'>\n",
      "<class 'float'>\n",
      "<class 'int'>\n",
      "<class 'set'>\n",
      "<class 'bool'>\n",
      "<class 'float'>\n"
     ]
    }
   ],
   "source": [
    "print(type(5))\n",
    "print(type(5.0))\n",
    "print(type(5>1))\n",
    "print(type('5'))\n",
    "print(type(5*2))\n",
    "print(type('5'*2))\n",
    "print(type('5'+'2'))\n",
    "print(type(5/2))\n",
    "print(type(5%2))\n",
    "print(type({5,2,1}))\n",
    "print(type(5==3))\n",
    "import math  #math module contains all mathematical functions and values.\n",
    "pi=math.pi\n",
    "print(type(pi))"
   ]
  },
  {
   "cell_type": "markdown",
   "id": "13f6e204",
   "metadata": {},
   "source": [
    "# Question 2 "
   ]
  },
  {
   "cell_type": "code",
   "execution_count": 15,
   "id": "2200678f",
   "metadata": {},
   "outputs": [
    {
     "name": "stdout",
     "output_type": "stream",
     "text": [
      "34\n",
      "True\n",
      "s and b have the greatest length containing 34 characters\n",
      "first composer in dictionary is: Bartok\n",
      "last composer in dictionary is: Buxtehude\n"
     ]
    }
   ],
   "source": [
    "#part a \n",
    "s='Supercalifragilisticexpialidocious'\n",
    "print(len(s))\n",
    "#part b.\n",
    "print('ice' in s)\n",
    "#part c.\n",
    "a='Honorificabilitudinitatibus'\n",
    "b='Bababadalgharaghtakamminarronnkonn'\n",
    "if len(s) == len(a) == len(b):\n",
    "    print(\"All strings have the same length.\")\n",
    "elif len(s)==len(a):\n",
    "    print(\"a and s have the greatest length containing\",len(a),'characters')\n",
    "elif len(s)==len(b):\n",
    "    print(\"s and b have the greatest length containing\",len(b),'characters')\n",
    "elif len(a)==len(b):\n",
    "    print(\"a and b have the greatest length containing\",len(a),'characters')\n",
    "elif len(s) >= len(a) and len(s) >= len(b):\n",
    "    print(\"s has the greatest length containing:\", len(s),'characters')\n",
    "elif len(a) >= len(s) and len(a) >= len(b):\n",
    "    print(\"a has the greatest length containing\",len(a),'characters')\n",
    "else:\n",
    "    print(\"b has the greatest length containing\",len(b),'characters')\n",
    "#part d.\n",
    "composers=['Berlioz', 'Borodin', 'Brian', 'Bartok', 'Bellini', 'Buxtehude', 'Bernstein']\n",
    "composers_sorted=sorted(composers)\n",
    "print(\"first composer in dictionary is:\",composers_sorted[0])\n",
    "print(\"last composer in dictionary is:\",composers_sorted[-1])"
   ]
  },
  {
   "cell_type": "markdown",
   "id": "c34f69eb",
   "metadata": {},
   "source": [
    "# Question 3 "
   ]
  },
  {
   "cell_type": "code",
   "execution_count": 2,
   "id": "31ed6aa5",
   "metadata": {},
   "outputs": [
    {
     "name": "stdout",
     "output_type": "stream",
     "text": [
      "enter length of side 1:2\n",
      "enter length of side 2:2\n",
      "enter length of side 3:2\n",
      "the area of triangle is  1.7320508075688772 cm\n"
     ]
    }
   ],
   "source": [
    "def triangleArea(a,b,c):\n",
    "    s=(a+b+c)/2 #calculate semi perimeter\n",
    "    area=(s*(s-a)*(s-b)*(s-c))**0.5\n",
    "    return area\n",
    "side1=int(input(\"enter length of side 1:\"))\n",
    "side2=int(input(\"enter length of side 2:\"))\n",
    "side3=int(input(\"enter length of side 3:\"))\n",
    "output=triangleArea(side1,side2,side3)\n",
    "print(\"the area of triangle is \",output,\"cm\")"
   ]
  },
  {
   "cell_type": "markdown",
   "id": "86ee4924",
   "metadata": {},
   "source": [
    "# Question 4"
   ]
  },
  {
   "cell_type": "code",
   "execution_count": 7,
   "id": "94fee119",
   "metadata": {},
   "outputs": [
    {
     "name": "stdout",
     "output_type": "stream",
     "text": [
      "how many elements you want to enter ? :6\n",
      "enter value:44\n",
      "enter value:31\n",
      "enter value:20\n",
      "enter value:88\n",
      "enter value:97\n",
      "enter value:52\n",
      "elements you entered are : [44, 31, 20, 88, 97, 52]\n",
      "even numbers are : [44, 20, 88, 52]\n",
      "odd numbers are : [31, 97]\n"
     ]
    }
   ],
   "source": [
    "def separate_odd_even(numbers):\n",
    "    even_no = []\n",
    "    odd_no = []\n",
    "    for num in numbers:\n",
    "        if num % 2 == 0:\n",
    "            even_no.append(num)\n",
    "        else:\n",
    "            odd_no.append(num)\n",
    "    return even_no, odd_no\n",
    "\n",
    "val=int(input(\"how many elements you want to enter ? :\"))\n",
    "numbers=[]\n",
    "for i in range(val):\n",
    "    element=int(input(\"enter value:\"))\n",
    "    numbers.append(element)\n",
    "print(\"elements you entered are :\",numbers)\n",
    "even,odd=separate_odd_even(numbers)\n",
    "print(\"even numbers are :\",even)\n",
    "print(\"odd numbers are :\",odd)"
   ]
  },
  {
   "cell_type": "markdown",
   "id": "3e65afa6",
   "metadata": {},
   "source": [
    "# Question 5"
   ]
  },
  {
   "cell_type": "code",
   "execution_count": 11,
   "id": "902f02be",
   "metadata": {},
   "outputs": [
    {
     "name": "stdout",
     "output_type": "stream",
     "text": [
      "enter x-coordinate value to check:1\n",
      "enter y-coordinate value to check:1\n",
      "Rectangle 1 other coordinates:\n",
      "enter lower left corner x-coordinate value:0.3\n",
      "enter lower left corner y-coordinate value:0.5\n",
      "enter upper right corner x-coordiante value:1.1\n",
      "enter upper right corner y-coordiante value:0.7\n",
      "Rectangle 2 other coordiantes:\n",
      "enter lower left corner x-coordinate value:0.5\n",
      "enter lower left corner y-coordinate value:0.2\n",
      "enter upper right corner x-coordiante value:1.1\n",
      "enter upper right corner y-coordiante value:2\n",
      "The point (1, 1) lies in both rectangles.\n"
     ]
    }
   ],
   "source": [
    "#part a.\n",
    "def inside(x, y, x1, y1, x2, y2):\n",
    "    # Check if x-coordinate of the point lies between x1 and x2\n",
    "    if x1 <= x <= x2:\n",
    "        # Check if y-coordinate of the point lies between y1 and y2\n",
    "        if y1 <= y <= y2:\n",
    "            return True\n",
    "    return False\n",
    "x=int(input(\"enter x-coordinate value to check:\"))\n",
    "y=int(input(\"enter y-coordinate value to check:\"))\n",
    "print(\"Rectangle 1 other coordinates:\")\n",
    "x1=float(input(\"enter lower left corner x-coordinate value:\"))\n",
    "y1=float(input(\"enter lower left corner y-coordinate value:\"))\n",
    "x2=float(input(\"enter upper right corner x-coordiante value:\"))\n",
    "y2=float(input(\"enter upper right corner y-coordiante value:\"))\n",
    "result=inside(x,y,x1,y1,x2,y2)\n",
    "print(result)\n",
    "\n",
    "#part b\n",
    "rect1=inside(x,y,x1,y1,x2,y2)\n",
    "print(\"Rectangle 2 other coordiantes:\")\n",
    "rx1=float(input(\"enter lower left corner x-coordinate value:\"))\n",
    "ry1=float(input(\"enter lower left corner y-coordinate value:\"))\n",
    "rx2=float(input(\"enter upper right corner x-coordiante value:\"))\n",
    "ry2=float(input(\"enter upper right corner y-coordiante value:\"))\n",
    "rect2=rect1=inside(x,y,rx1,ry1,rx2,ry2)\n",
    "if rect1 and rect2:\n",
    "    print(\"The point\",(x,y), \"lies in both rectangles.\")\n",
    "else:\n",
    "    print(\"The point\",(x,y),\"does not lie in both rectangles.\")"
   ]
  },
  {
   "cell_type": "markdown",
   "id": "3cf06bba",
   "metadata": {},
   "source": [
    "# Question 6"
   ]
  },
  {
   "cell_type": "code",
   "execution_count": 20,
   "id": "ec97f0c4",
   "metadata": {},
   "outputs": [
    {
     "name": "stdout",
     "output_type": "stream",
     "text": [
      "Enter name:Enter\n",
      "The entered string in pig-Latin is:  enterway\n"
     ]
    }
   ],
   "source": [
    "def pig(name):\n",
    "    if(name[0].lower() in 'aeiou'):\n",
    "        print(\"The entered string in pig-Latin is: \",name.lower()+'way')\n",
    "    else:\n",
    "        print(\"The entered string in pig-Latin is: \",name[1:].lower()+name[0].lower()+'ay')\n",
    "name=input(\"Enter name:\")\n",
    "pig(name)"
   ]
  },
  {
   "cell_type": "markdown",
   "id": "6d7db0ac",
   "metadata": {},
   "source": [
    "# Question 7"
   ]
  },
  {
   "cell_type": "code",
   "execution_count": 33,
   "id": "76c0731c",
   "metadata": {},
   "outputs": [
    {
     "name": "stdout",
     "output_type": "stream",
     "text": [
      "There are 15 patients of blood type A.\n",
      "There is one patient of blood type B.\n",
      "There are 13 patients of blood type AB.\n",
      "There are 15 patients of blood type O.\n",
      "There are no patients of blood type OO.\n"
     ]
    }
   ],
   "source": [
    "def bldcount(bloodgroup):\n",
    "    # Define a dictionary to store the counts of each blood type\n",
    "    blood_count = {'A': 0, 'B': 0, 'AB': 0, 'O': 0, 'OO': 0}\n",
    "\n",
    "    # Open the file and read each line\n",
    "    with open(bloodgroup, 'r') as file:\n",
    "        for l in file:\n",
    "            # Strip whitespace and split the line by spaces\n",
    "            blood_type = l.strip().split()\n",
    "\n",
    "            # Increment the count for the blood type in the dictionary\n",
    "            for b in blood_type:\n",
    "                blood_count[b] += 1\n",
    "     # Print the counts for each blood type\n",
    "    for b, count in blood_count.items():\n",
    "        if count == 1:\n",
    "            print(f\"There is one patient of blood type {b}.\")\n",
    "        elif count > 1:\n",
    "            print(f\"There are {count} patients of blood type {b}.\")\n",
    "        else:\n",
    "            print(f\"There are no patients of blood type {b}.\")\n",
    "bldcount('bloodgroup.txt')\n"
   ]
  },
  {
   "cell_type": "markdown",
   "id": "3e5117b0",
   "metadata": {},
   "source": [
    "# Question 8"
   ]
  },
  {
   "cell_type": "code",
   "execution_count": 24,
   "id": "c23f7e38",
   "metadata": {},
   "outputs": [
    {
     "name": "stdout",
     "output_type": "stream",
     "text": [
      "Enter currency you want to convert into USD:php\n",
      "enter number of notes you would like to change in USD:90\n",
      "90 php in USD dollars equals to: 2.099106\n"
     ]
    }
   ],
   "source": [
    "def curconv(currency,amount):\n",
    "    rates={\n",
    "        'AUD': 1.0345157,\n",
    "        'CHF': 1.0237414,\n",
    "        'CNY': 0.1550176,\n",
    "        'DKK': 0.1651442,\n",
    "        'EUR': 1.2296544,\n",
    "        'GBP': 1.5550989,\n",
    "        'HKD': 0.1270207,\n",
    "        'INR': 0.0177643,\n",
    "        'JPY': 0.01241401,\n",
    "        'MXN': 0.0751848,\n",
    "        'MYR': 0.3145411,\n",
    "        'NOK': 0.1677063,\n",
    "        'NZD': 0.8003591,\n",
    "        'PHP': 0.0233234,\n",
    "        'SEK': 0.148269,\n",
    "        'SGD': 0.788871,\n",
    "        'THB': 0.0313789}\n",
    "    if currency.upper() in rates:\n",
    "        print(amount,currency,\"in USD dollars equals to:\",amount*rates[currency.upper()])\n",
    "    else:\n",
    "        print(\"Currency value not found\")\n",
    "currency=input(\"Enter currency you want to convert into USD:\")\n",
    "amount=int(input(\"enter number of notes you would like to change in USD:\"))\n",
    "curconv(currency,amount)"
   ]
  },
  {
   "cell_type": "markdown",
   "id": "b0b74182",
   "metadata": {},
   "source": [
    "# Question 9"
   ]
  },
  {
   "cell_type": "code",
   "execution_count": 34,
   "id": "745287fb",
   "metadata": {},
   "outputs": [
    {
     "ename": "TypeError",
     "evalue": "unsupported operand type(s) for +: 'int' and 'str'",
     "output_type": "error",
     "traceback": [
      "\u001b[1;31m---------------------------------------------------------------------------\u001b[0m",
      "\u001b[1;31mTypeError\u001b[0m                                 Traceback (most recent call last)",
      "Input \u001b[1;32mIn [34]\u001b[0m, in \u001b[0;36m<cell line: 1>\u001b[1;34m()\u001b[0m\n\u001b[1;32m----> 1\u001b[0m \u001b[38;5;28mprint\u001b[39m(\u001b[38;5;241;43m6\u001b[39;49m\u001b[38;5;241;43m+\u001b[39;49m\u001b[38;5;124;43m'\u001b[39;49m\u001b[38;5;124;43ma\u001b[39;49m\u001b[38;5;124;43m'\u001b[39;49m)\n",
      "\u001b[1;31mTypeError\u001b[0m: unsupported operand type(s) for +: 'int' and 'str'"
     ]
    }
   ],
   "source": [
    "print(6+'a')"
   ]
  },
  {
   "cell_type": "code",
   "execution_count": 35,
   "id": "65a62d43",
   "metadata": {},
   "outputs": [
    {
     "ename": "IndexError",
     "evalue": "list index out of range",
     "output_type": "error",
     "traceback": [
      "\u001b[1;31m---------------------------------------------------------------------------\u001b[0m",
      "\u001b[1;31mIndexError\u001b[0m                                Traceback (most recent call last)",
      "Input \u001b[1;32mIn [35]\u001b[0m, in \u001b[0;36m<cell line: 2>\u001b[1;34m()\u001b[0m\n\u001b[0;32m      1\u001b[0m l\u001b[38;5;241m=\u001b[39m[\u001b[38;5;241m1\u001b[39m,\u001b[38;5;241m2\u001b[39m,\u001b[38;5;241m3\u001b[39m,\u001b[38;5;241m4\u001b[39m,\u001b[38;5;241m5\u001b[39m,\u001b[38;5;241m6\u001b[39m,\u001b[38;5;241m7\u001b[39m,\u001b[38;5;241m8\u001b[39m,\u001b[38;5;241m9\u001b[39m,\u001b[38;5;241m0\u001b[39m,\u001b[38;5;241m21\u001b[39m]\n\u001b[1;32m----> 2\u001b[0m \u001b[38;5;28mprint\u001b[39m(\u001b[43ml\u001b[49m\u001b[43m[\u001b[49m\u001b[38;5;241;43m12\u001b[39;49m\u001b[43m]\u001b[49m)\n",
      "\u001b[1;31mIndexError\u001b[0m: list index out of range"
     ]
    }
   ],
   "source": [
    "l=[1,2,3,4,5,6,7,8,9,0,21]\n",
    "print(l[12])"
   ]
  },
  {
   "cell_type": "code",
   "execution_count": 36,
   "id": "2e24e195",
   "metadata": {},
   "outputs": [
    {
     "ename": "ValueError",
     "evalue": "math domain error",
     "output_type": "error",
     "traceback": [
      "\u001b[1;31m---------------------------------------------------------------------------\u001b[0m",
      "\u001b[1;31mValueError\u001b[0m                                Traceback (most recent call last)",
      "Input \u001b[1;32mIn [36]\u001b[0m, in \u001b[0;36m<cell line: 2>\u001b[1;34m()\u001b[0m\n\u001b[0;32m      1\u001b[0m \u001b[38;5;28;01mimport\u001b[39;00m \u001b[38;5;21;01mmath\u001b[39;00m\n\u001b[1;32m----> 2\u001b[0m \u001b[38;5;28mprint\u001b[39m(\u001b[43mmath\u001b[49m\u001b[38;5;241;43m.\u001b[39;49m\u001b[43msqrt\u001b[49m\u001b[43m(\u001b[49m\u001b[38;5;241;43m-\u001b[39;49m\u001b[38;5;241;43m1\u001b[39;49m\u001b[43m)\u001b[49m)\n",
      "\u001b[1;31mValueError\u001b[0m: math domain error"
     ]
    }
   ],
   "source": [
    "import math\n",
    "print(math.sqrt(-1))"
   ]
  },
  {
   "cell_type": "code",
   "execution_count": 38,
   "id": "c5f7fedd",
   "metadata": {},
   "outputs": [
    {
     "ename": "NameError",
     "evalue": "name 'z' is not defined",
     "output_type": "error",
     "traceback": [
      "\u001b[1;31m---------------------------------------------------------------------------\u001b[0m",
      "\u001b[1;31mNameError\u001b[0m                                 Traceback (most recent call last)",
      "Input \u001b[1;32mIn [38]\u001b[0m, in \u001b[0;36m<cell line: 1>\u001b[1;34m()\u001b[0m\n\u001b[1;32m----> 1\u001b[0m \u001b[38;5;28mprint\u001b[39m(\u001b[43mz\u001b[49m)\n",
      "\u001b[1;31mNameError\u001b[0m: name 'z' is not defined"
     ]
    }
   ],
   "source": [
    "print(z)"
   ]
  },
  {
   "cell_type": "code",
   "execution_count": 39,
   "id": "23317fb6",
   "metadata": {},
   "outputs": [
    {
     "ename": "FileNotFoundError",
     "evalue": "[Errno 2] No such file or directory: 'data.txt'",
     "output_type": "error",
     "traceback": [
      "\u001b[1;31m---------------------------------------------------------------------------\u001b[0m",
      "\u001b[1;31mFileNotFoundError\u001b[0m                         Traceback (most recent call last)",
      "Input \u001b[1;32mIn [39]\u001b[0m, in \u001b[0;36m<cell line: 1>\u001b[1;34m()\u001b[0m\n\u001b[1;32m----> 1\u001b[0m \u001b[38;5;28;01mwith\u001b[39;00m \u001b[38;5;28;43mopen\u001b[39;49m\u001b[43m(\u001b[49m\u001b[38;5;124;43m\"\u001b[39;49m\u001b[38;5;124;43mdata.txt\u001b[39;49m\u001b[38;5;124;43m\"\u001b[39;49m\u001b[43m,\u001b[49m\u001b[43m \u001b[49m\u001b[38;5;124;43m'\u001b[39;49m\u001b[38;5;124;43mr\u001b[39;49m\u001b[38;5;124;43m'\u001b[39;49m\u001b[43m)\u001b[49m \u001b[38;5;28;01mas\u001b[39;00m file:\n\u001b[0;32m      2\u001b[0m        \u001b[38;5;28;01mfor\u001b[39;00m i \u001b[38;5;129;01min\u001b[39;00m file:\n\u001b[0;32m      3\u001b[0m           \u001b[38;5;28mprint\u001b[39m(i)\n",
      "\u001b[1;31mFileNotFoundError\u001b[0m: [Errno 2] No such file or directory: 'data.txt'"
     ]
    }
   ],
   "source": [
    " with open(\"data.txt\", 'r') as file:\n",
    "        for i in file:\n",
    "           print(i)"
   ]
  },
  {
   "cell_type": "markdown",
   "id": "89ba6505",
   "metadata": {},
   "source": [
    "# Question 10"
   ]
  },
  {
   "cell_type": "code",
   "execution_count": 40,
   "id": "98a9bcd4",
   "metadata": {},
   "outputs": [
    {
     "name": "stdout",
     "output_type": "stream",
     "text": [
      "[1, 1, 1, 3, 5, 1, 1, 2, 1, 0, 1, 0, 1, 2, 4, 0, 1, 2, 0, 3, 1, 0, 1, 1, 0, 0]\n"
     ]
    }
   ],
   "source": [
    "def frequencies(text):\n",
    "    letters = 'abcdefghijklmnopqrstuvwxyz'\n",
    "    letter_counts = {letter: 0 for letter in letters}\n",
    "    # Convert the input text to lowercase to handle both uppercase and lowercase letters\n",
    "    text = text.lower()\n",
    "    for char in text:\n",
    "        if char in letter_counts:\n",
    "            letter_counts[char] += 1\n",
    "    # Convert the dictionary values to a list and return it\n",
    "    return list(letter_counts.values())\n",
    "text = \"The quick red fox got bored and went home.\"\n",
    "encryption = frequencies(text)\n",
    "print(encryption)"
   ]
  },
  {
   "cell_type": "code",
   "execution_count": null,
   "id": "f262791a",
   "metadata": {},
   "outputs": [],
   "source": []
  }
 ],
 "metadata": {
  "kernelspec": {
   "display_name": "Python 3 (ipykernel)",
   "language": "python",
   "name": "python3"
  },
  "language_info": {
   "codemirror_mode": {
    "name": "ipython",
    "version": 3
   },
   "file_extension": ".py",
   "mimetype": "text/x-python",
   "name": "python",
   "nbconvert_exporter": "python",
   "pygments_lexer": "ipython3",
   "version": "3.9.12"
  }
 },
 "nbformat": 4,
 "nbformat_minor": 5
}
